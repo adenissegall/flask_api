{
 "cells": [
  {
   "cell_type": "markdown",
   "metadata": {},
   "source": [
    "## Imports section"
   ]
  },
  {
   "cell_type": "code",
   "execution_count": 17,
   "metadata": {},
   "outputs": [],
   "source": [
    "import pandas as pd\n",
    "import pyodbc\n",
    "import numpy as np\n",
    "from sklearn.preprocessing import StandardScaler\n",
    "import pickle\n",
    "from pycaret.classification import *\n",
    "import requests"
   ]
  },
  {
   "cell_type": "markdown",
   "metadata": {},
   "source": [
    "## Get data from SQL Server database"
   ]
  },
  {
   "cell_type": "code",
   "execution_count": 18,
   "metadata": {},
   "outputs": [],
   "source": [
    "#SQL CONECTION\n",
    "def conexao_sql_server():\n",
    "    server = 'LAPTOP-TA7HV3O7\\SQLEXPRESS'\n",
    "    database = 'olist'\n",
    "    username = 'XXXX'\n",
    "    password = 'XXXX'\n",
    "    string_conexao = 'Driver={SQL Server Native Client 11.0};Server='+server+';Database='+database+';UID='+username+';PWD='+password\n",
    "    conexao = pyodbc.connect(string_conexao)\n",
    "    return conexao\n",
    "\n",
    "\n",
    "conn = conexao_sql_server()"
   ]
  },
  {
   "cell_type": "code",
   "execution_count": 19,
   "metadata": {},
   "outputs": [],
   "source": [
    "#QUERY\n",
    "query = '''\n",
    "select \n",
    "    tb2.[\"seller_id\"] as [id_vendedor],\n",
    "    tb4.[\"seller_state\"] as [estado],\n",
    "    (datediff(day, min(tb1.[\"order_approved_at\"]), '2018-09-03')+1) as [dias_na_base],\n",
    "    (datediff(day, min(tb1.[\"order_approved_at\"]), max(tb1.[\"order_approved_at\"]))+1) as [dias_atividade],\n",
    "    count(distinct(cast(tb1.[\"order_approved_at\"] as date))) as [datas_distintas_de_venda],\n",
    "    cast(count(distinct(cast(tb1.[\"order_approved_at\"] as date))) as numeric) / (datediff(day, min(tb1.[\"order_approved_at\"]), max(tb1.[\"order_approved_at\"]))+1) as [%_de_atividade],\n",
    "    cast(count(distinct(tb2.[\"order_id\"])) as numeric) / count(distinct(cast(tb1.[\"order_approved_at\"] as date))) as [vendas_por_dia_de_atividade],\n",
    "    avg(cast(tb3.[review_score] as numeric)) as [avaliacao_media],\n",
    "    count(distinct(tb2.[\"order_id\"])) as [qtd_pedidos],\n",
    "    count(tb2.[\"product_id\"]) as [qtd_produtos],\n",
    "    cast(count(tb2.[\"product_id\"]) as numeric) / count(distinct(tb2.[\"order_id\"])) as [media_produtos_por_pedido],\n",
    "    sum(cast(tb2.[\"price\"] as numeric)) as [receita_total],\n",
    "    sum(cast(tb2.[\"price\"] as numeric)) / count(distinct(tb2.[\"order_id\"])) as  [media_valor_pedido_sem_frete],\n",
    "    (sum(cast(tb2.[\"price\"] as numeric)) + sum(cast(tb2.[\"freight_value\"] as numeric))) / count(distinct(tb2.[\"order_id\"])) as  [media_valor_pedido_com_frete],\n",
    "    sum(cast(tb2.[\"freight_value\"] as numeric)) / count(distinct(tb2.[\"order_id\"])) as  [media_valor_frete],\n",
    "    (convert(decimal(5,1),sum(case when tb1.[\"order_delivered_customer_date\"] > tb1.[\"order_estimated_delivery_date\"] then 1 else 0 end)))/count(tb2.[\"seller_id\"]) as [prop_pedidos_atrasados],\n",
    "    datediff(day, max(tb1.[\"order_approved_at\"]), '2018-09-03') as [dias_sem_vender],\n",
    "    avg(datediff(day, (tb1.[\"order_delivered_carrier_date\"]), tb2.[\"shipping_limit_date\"])) as [tempo_de_postagem]\n",
    "    from olist_orders_dataset tb1\n",
    "\n",
    "    left join olist_order_items_dataset tb2 \n",
    "    on tb1.[\"order_id\"] = tb2.[\"order_id\"] \n",
    "\n",
    "    left join olist_order_reviews_dataset tb3\n",
    "    on tb1.[\"order_id\"] = tb3.[order_id]\n",
    "    \n",
    "    left join olist_sellers_dataset tb4\n",
    "    on tb2.[\"seller_id\"] = tb4.[\"seller_id\"]\n",
    "    \n",
    "    where tb1.[\"order_status\"] = 'delivered' and tb1.[\"order_approved_at\"] NOT LIKE ''\n",
    "    group by tb2.[\"seller_id\"], tb4.[\"seller_state\"]\n",
    "    HAVING (datediff(day, min(tb1.[\"order_approved_at\"]), '2018-09-03')+1) > 90\n",
    "'''   "
   ]
  },
  {
   "cell_type": "markdown",
   "metadata": {},
   "source": [
    "## Data processing"
   ]
  },
  {
   "cell_type": "code",
   "execution_count": 20,
   "metadata": {},
   "outputs": [],
   "source": [
    "#query to df\n",
    "vendedores = pd.read_sql(query, conn)\n",
    "#rounding float64 columns\n",
    "float_columns = list(vendedores.select_dtypes(include='float64').columns)\n",
    "vendedores[float_columns] = np.round(vendedores[float_columns], decimals = 2)\n",
    "#inputing the average value between 0 and 5 in empty evaluation fields\n",
    "vendedores['avaliacao_media'] = vendedores['avaliacao_media'].fillna(2.5)\n",
    "#column with the manual labels\n",
    "vendedores['target'] = (vendedores['dias_sem_vender'] > 90)\n",
    "#replacing values to 0 and 1\n",
    "vendedores.loc[:, 'target'].replace({False: 0}, inplace=True)\n",
    "vendedores.loc[:, 'target'].replace({True: 1}, inplace=True)"
   ]
  },
  {
   "cell_type": "markdown",
   "metadata": {},
   "source": [
    "## Creating the model"
   ]
  },
  {
   "cell_type": "code",
   "execution_count": 21,
   "metadata": {},
   "outputs": [
    {
     "data": {
      "text/html": [
       "<style  type=\"text/css\" >\n",
       "#T_c804236a_857b_11ec_8e36_a463a11799dbrow5_col0,#T_c804236a_857b_11ec_8e36_a463a11799dbrow5_col1,#T_c804236a_857b_11ec_8e36_a463a11799dbrow5_col2,#T_c804236a_857b_11ec_8e36_a463a11799dbrow5_col3,#T_c804236a_857b_11ec_8e36_a463a11799dbrow5_col4,#T_c804236a_857b_11ec_8e36_a463a11799dbrow5_col5,#T_c804236a_857b_11ec_8e36_a463a11799dbrow5_col6{\n",
       "            background:  yellow;\n",
       "        }</style><table id=\"T_c804236a_857b_11ec_8e36_a463a11799db\" ><thead>    <tr>        <th class=\"blank level0\" ></th>        <th class=\"col_heading level0 col0\" >Accuracy</th>        <th class=\"col_heading level0 col1\" >AUC</th>        <th class=\"col_heading level0 col2\" >Recall</th>        <th class=\"col_heading level0 col3\" >Prec.</th>        <th class=\"col_heading level0 col4\" >F1</th>        <th class=\"col_heading level0 col5\" >Kappa</th>        <th class=\"col_heading level0 col6\" >MCC</th>    </tr></thead><tbody>\n",
       "                <tr>\n",
       "                        <th id=\"T_c804236a_857b_11ec_8e36_a463a11799dblevel0_row0\" class=\"row_heading level0 row0\" >0</th>\n",
       "                        <td id=\"T_c804236a_857b_11ec_8e36_a463a11799dbrow0_col0\" class=\"data row0 col0\" >0.7457</td>\n",
       "                        <td id=\"T_c804236a_857b_11ec_8e36_a463a11799dbrow0_col1\" class=\"data row0 col1\" >0.8351</td>\n",
       "                        <td id=\"T_c804236a_857b_11ec_8e36_a463a11799dbrow0_col2\" class=\"data row0 col2\" >0.6228</td>\n",
       "                        <td id=\"T_c804236a_857b_11ec_8e36_a463a11799dbrow0_col3\" class=\"data row0 col3\" >0.8062</td>\n",
       "                        <td id=\"T_c804236a_857b_11ec_8e36_a463a11799dbrow0_col4\" class=\"data row0 col4\" >0.7027</td>\n",
       "                        <td id=\"T_c804236a_857b_11ec_8e36_a463a11799dbrow0_col5\" class=\"data row0 col5\" >0.4868</td>\n",
       "                        <td id=\"T_c804236a_857b_11ec_8e36_a463a11799dbrow0_col6\" class=\"data row0 col6\" >0.4992</td>\n",
       "            </tr>\n",
       "            <tr>\n",
       "                        <th id=\"T_c804236a_857b_11ec_8e36_a463a11799dblevel0_row1\" class=\"row_heading level0 row1\" >1</th>\n",
       "                        <td id=\"T_c804236a_857b_11ec_8e36_a463a11799dbrow1_col0\" class=\"data row1 col0\" >0.7746</td>\n",
       "                        <td id=\"T_c804236a_857b_11ec_8e36_a463a11799dbrow1_col1\" class=\"data row1 col1\" >0.8688</td>\n",
       "                        <td id=\"T_c804236a_857b_11ec_8e36_a463a11799dbrow1_col2\" class=\"data row1 col2\" >0.7006</td>\n",
       "                        <td id=\"T_c804236a_857b_11ec_8e36_a463a11799dbrow1_col3\" class=\"data row1 col3\" >0.8069</td>\n",
       "                        <td id=\"T_c804236a_857b_11ec_8e36_a463a11799dbrow1_col4\" class=\"data row1 col4\" >0.7500</td>\n",
       "                        <td id=\"T_c804236a_857b_11ec_8e36_a463a11799dbrow1_col5\" class=\"data row1 col5\" >0.5466</td>\n",
       "                        <td id=\"T_c804236a_857b_11ec_8e36_a463a11799dbrow1_col6\" class=\"data row1 col6\" >0.5511</td>\n",
       "            </tr>\n",
       "            <tr>\n",
       "                        <th id=\"T_c804236a_857b_11ec_8e36_a463a11799dblevel0_row2\" class=\"row_heading level0 row2\" >2</th>\n",
       "                        <td id=\"T_c804236a_857b_11ec_8e36_a463a11799dbrow2_col0\" class=\"data row2 col0\" >0.7601</td>\n",
       "                        <td id=\"T_c804236a_857b_11ec_8e36_a463a11799dbrow2_col1\" class=\"data row2 col1\" >0.8504</td>\n",
       "                        <td id=\"T_c804236a_857b_11ec_8e36_a463a11799dbrow2_col2\" class=\"data row2 col2\" >0.7365</td>\n",
       "                        <td id=\"T_c804236a_857b_11ec_8e36_a463a11799dbrow2_col3\" class=\"data row2 col3\" >0.7593</td>\n",
       "                        <td id=\"T_c804236a_857b_11ec_8e36_a463a11799dbrow2_col4\" class=\"data row2 col4\" >0.7477</td>\n",
       "                        <td id=\"T_c804236a_857b_11ec_8e36_a463a11799dbrow2_col5\" class=\"data row2 col5\" >0.5192</td>\n",
       "                        <td id=\"T_c804236a_857b_11ec_8e36_a463a11799dbrow2_col6\" class=\"data row2 col6\" >0.5194</td>\n",
       "            </tr>\n",
       "            <tr>\n",
       "                        <th id=\"T_c804236a_857b_11ec_8e36_a463a11799dblevel0_row3\" class=\"row_heading level0 row3\" >3</th>\n",
       "                        <td id=\"T_c804236a_857b_11ec_8e36_a463a11799dbrow3_col0\" class=\"data row3 col0\" >0.7681</td>\n",
       "                        <td id=\"T_c804236a_857b_11ec_8e36_a463a11799dbrow3_col1\" class=\"data row3 col1\" >0.8548</td>\n",
       "                        <td id=\"T_c804236a_857b_11ec_8e36_a463a11799dbrow3_col2\" class=\"data row3 col2\" >0.7289</td>\n",
       "                        <td id=\"T_c804236a_857b_11ec_8e36_a463a11799dbrow3_col3\" class=\"data row3 col3\" >0.7756</td>\n",
       "                        <td id=\"T_c804236a_857b_11ec_8e36_a463a11799dbrow3_col4\" class=\"data row3 col4\" >0.7516</td>\n",
       "                        <td id=\"T_c804236a_857b_11ec_8e36_a463a11799dbrow3_col5\" class=\"data row3 col5\" >0.5346</td>\n",
       "                        <td id=\"T_c804236a_857b_11ec_8e36_a463a11799dbrow3_col6\" class=\"data row3 col6\" >0.5355</td>\n",
       "            </tr>\n",
       "            <tr>\n",
       "                        <th id=\"T_c804236a_857b_11ec_8e36_a463a11799dblevel0_row4\" class=\"row_heading level0 row4\" >4</th>\n",
       "                        <td id=\"T_c804236a_857b_11ec_8e36_a463a11799dbrow4_col0\" class=\"data row4 col0\" >0.7594</td>\n",
       "                        <td id=\"T_c804236a_857b_11ec_8e36_a463a11799dbrow4_col1\" class=\"data row4 col1\" >0.8559</td>\n",
       "                        <td id=\"T_c804236a_857b_11ec_8e36_a463a11799dbrow4_col2\" class=\"data row4 col2\" >0.7365</td>\n",
       "                        <td id=\"T_c804236a_857b_11ec_8e36_a463a11799dbrow4_col3\" class=\"data row4 col3\" >0.7593</td>\n",
       "                        <td id=\"T_c804236a_857b_11ec_8e36_a463a11799dbrow4_col4\" class=\"data row4 col4\" >0.7477</td>\n",
       "                        <td id=\"T_c804236a_857b_11ec_8e36_a463a11799dbrow4_col5\" class=\"data row4 col5\" >0.5179</td>\n",
       "                        <td id=\"T_c804236a_857b_11ec_8e36_a463a11799dbrow4_col6\" class=\"data row4 col6\" >0.5181</td>\n",
       "            </tr>\n",
       "            <tr>\n",
       "                        <th id=\"T_c804236a_857b_11ec_8e36_a463a11799dblevel0_row5\" class=\"row_heading level0 row5\" >Mean</th>\n",
       "                        <td id=\"T_c804236a_857b_11ec_8e36_a463a11799dbrow5_col0\" class=\"data row5 col0\" >0.7616</td>\n",
       "                        <td id=\"T_c804236a_857b_11ec_8e36_a463a11799dbrow5_col1\" class=\"data row5 col1\" >0.8530</td>\n",
       "                        <td id=\"T_c804236a_857b_11ec_8e36_a463a11799dbrow5_col2\" class=\"data row5 col2\" >0.7051</td>\n",
       "                        <td id=\"T_c804236a_857b_11ec_8e36_a463a11799dbrow5_col3\" class=\"data row5 col3\" >0.7815</td>\n",
       "                        <td id=\"T_c804236a_857b_11ec_8e36_a463a11799dbrow5_col4\" class=\"data row5 col4\" >0.7399</td>\n",
       "                        <td id=\"T_c804236a_857b_11ec_8e36_a463a11799dbrow5_col5\" class=\"data row5 col5\" >0.5210</td>\n",
       "                        <td id=\"T_c804236a_857b_11ec_8e36_a463a11799dbrow5_col6\" class=\"data row5 col6\" >0.5247</td>\n",
       "            </tr>\n",
       "            <tr>\n",
       "                        <th id=\"T_c804236a_857b_11ec_8e36_a463a11799dblevel0_row6\" class=\"row_heading level0 row6\" >SD</th>\n",
       "                        <td id=\"T_c804236a_857b_11ec_8e36_a463a11799dbrow6_col0\" class=\"data row6 col0\" >0.0097</td>\n",
       "                        <td id=\"T_c804236a_857b_11ec_8e36_a463a11799dbrow6_col1\" class=\"data row6 col1\" >0.0108</td>\n",
       "                        <td id=\"T_c804236a_857b_11ec_8e36_a463a11799dbrow6_col2\" class=\"data row6 col2\" >0.0432</td>\n",
       "                        <td id=\"T_c804236a_857b_11ec_8e36_a463a11799dbrow6_col3\" class=\"data row6 col3\" >0.0213</td>\n",
       "                        <td id=\"T_c804236a_857b_11ec_8e36_a463a11799dbrow6_col4\" class=\"data row6 col4\" >0.0187</td>\n",
       "                        <td id=\"T_c804236a_857b_11ec_8e36_a463a11799dbrow6_col5\" class=\"data row6 col5\" >0.0201</td>\n",
       "                        <td id=\"T_c804236a_857b_11ec_8e36_a463a11799dbrow6_col6\" class=\"data row6 col6\" >0.0175</td>\n",
       "            </tr>\n",
       "    </tbody></table>"
      ],
      "text/plain": [
       "<pandas.io.formats.style.Styler at 0x23a5b2ed790>"
      ]
     },
     "metadata": {},
     "output_type": "display_data"
    },
    {
     "name": "stdout",
     "output_type": "stream",
     "text": [
      "Transformation Pipeline and Model Successfully Saved\n"
     ]
    },
    {
     "data": {
      "text/plain": [
       "(Pipeline(memory=None,\n",
       "          steps=[('dtypes',\n",
       "                  DataTypes_Auto_infer(categorical_features=[],\n",
       "                                       display_types=False, features_todrop=[],\n",
       "                                       id_columns=[],\n",
       "                                       ml_usecase='classification',\n",
       "                                       numerical_features=['dias_atividade',\n",
       "                                                           'datas_distintas_de_venda',\n",
       "                                                           '%_de_atividade',\n",
       "                                                           'vendas_por_dia_de_atividade',\n",
       "                                                           'qtd_pedidos',\n",
       "                                                           'qtd_produtos',\n",
       "                                                           'media_produtos_por_pedido',\n",
       "                                                           'receita_total',\n",
       "                                                           'm...\n",
       "                                             learning_rate=0.1, loss='deviance',\n",
       "                                             max_depth=3, max_features=None,\n",
       "                                             max_leaf_nodes=None,\n",
       "                                             min_impurity_decrease=0.0,\n",
       "                                             min_impurity_split=None,\n",
       "                                             min_samples_leaf=1,\n",
       "                                             min_samples_split=2,\n",
       "                                             min_weight_fraction_leaf=0.0,\n",
       "                                             n_estimators=100,\n",
       "                                             n_iter_no_change=None,\n",
       "                                             presort='deprecated',\n",
       "                                             random_state=3124, subsample=1.0,\n",
       "                                             tol=0.0001, validation_fraction=0.1,\n",
       "                                             verbose=0, warm_start=False)]],\n",
       "          verbose=False),\n",
       " 'final_model.pkl')"
      ]
     },
     "execution_count": 21,
     "metadata": {},
     "output_type": "execute_result"
    }
   ],
   "source": [
    "#GRADIENT BOOSTING CLASSIFIER classification model setup\n",
    "s = setup (vendedores[['dias_atividade', 'datas_distintas_de_venda',\\\n",
    "                       '%_de_atividade', 'vendas_por_dia_de_atividade',\\\n",
    "                       'qtd_pedidos', 'qtd_produtos',\\\n",
    "                       'media_produtos_por_pedido', 'receita_total',\\\n",
    "                       'media_valor_pedido_sem_frete', 'media_valor_pedido_com_frete',\\\n",
    "                       'media_valor_frete', 'prop_pedidos_atrasados', 'tempo_de_postagem', 'target']],\n",
    "           target='target',\n",
    "           numeric_features = ['dias_atividade', 'datas_distintas_de_venda',\\\n",
    "                       '%_de_atividade', 'vendas_por_dia_de_atividade',\\\n",
    "                       'qtd_pedidos', 'qtd_produtos',\\\n",
    "                       'media_produtos_por_pedido', 'receita_total',\\\n",
    "                       'media_valor_pedido_sem_frete', 'media_valor_pedido_com_frete',\\\n",
    "                       'media_valor_frete', 'prop_pedidos_atrasados', 'tempo_de_postagem'],\n",
    "           normalize = True,\n",
    "           normalize_method = 'minmax',\n",
    "           data_split_stratify = True,\n",
    "           fix_imbalance = True,\n",
    "           silent=True,\n",
    "           verbose=False\n",
    "          )\n",
    "\n",
    "\n",
    "#creating model\n",
    "gbc = create_model('gbc', fold=5)\n",
    "#finalizing modelo\n",
    "final_model = finalize_model(gbc)\n",
    "#saving\n",
    "save_model(final_model, 'final_model')"
   ]
  },
  {
   "cell_type": "markdown",
   "metadata": {},
   "source": [
    "## Data preparation to API call"
   ]
  },
  {
   "cell_type": "code",
   "execution_count": 22,
   "metadata": {},
   "outputs": [
    {
     "data": {
      "text/plain": [
       "'[{\"dias_atividade\":81,\"datas_distintas_de_venda\":6,\"%_de_atividade\":0.07,\"vendas_por_dia_de_atividade\":1.17,\"qtd_pedidos\":7,\"qtd_produtos\":8,\"media_produtos_por_pedido\":1.14,\"receita_total\":1028.0,\"media_valor_pedido_sem_frete\":146.86,\"media_valor_pedido_com_frete\":168.14,\"media_valor_frete\":21.29,\"prop_pedidos_atrasados\":0.0,\"tempo_de_postagem\":1}]'"
      ]
     },
     "execution_count": 22,
     "metadata": {},
     "output_type": "execute_result"
    }
   ],
   "source": [
    "#1 sample to generate predictions\n",
    "df = vendedores[['dias_atividade', 'datas_distintas_de_venda',\\\n",
    "                       '%_de_atividade', 'vendas_por_dia_de_atividade',\\\n",
    "                       'qtd_pedidos', 'qtd_produtos',\\\n",
    "                       'media_produtos_por_pedido', 'receita_total',\\\n",
    "                       'media_valor_pedido_sem_frete', 'media_valor_pedido_com_frete',\\\n",
    "                       'media_valor_frete', 'prop_pedidos_atrasados', 'tempo_de_postagem']].sample()\n",
    "\n",
    "#turning it into json file\n",
    "df_json = df.to_json(orient='records')\n",
    "df_json"
   ]
  },
  {
   "cell_type": "markdown",
   "metadata": {},
   "source": [
    "## Calling the API"
   ]
  },
  {
   "cell_type": "code",
   "execution_count": 23,
   "metadata": {},
   "outputs": [],
   "source": [
    "url = 'http://192.168.0.228:5000/predict'\n",
    "data = df_json\n",
    "headers = {'Content-type': 'application/json'}\n",
    "\n",
    "r = requests.post(url=url, data=data, headers=headers)"
   ]
  },
  {
   "cell_type": "code",
   "execution_count": 24,
   "metadata": {},
   "outputs": [
    {
     "name": "stdout",
     "output_type": "stream",
     "text": [
      "200\n",
      "[{'dias_atividade': 81, 'datas_distintas_de_venda': 6, '%_de_atividade': 0.07, 'vendas_por_dia_de_atividade': 1.17, 'qtd_pedidos': 7, 'qtd_produtos': 8, 'media_produtos_por_pedido': 1.14, 'receita_total': 1028.0, 'media_valor_pedido_sem_frete': 146.86, 'media_valor_pedido_com_frete': 168.14, 'media_valor_frete': 21.29, 'prop_pedidos_atrasados': 0.0, 'tempo_de_postagem': 1, 'prediction': 1}]\n"
     ]
    }
   ],
   "source": [
    "#returning status code from the api, if 200 its ok\n",
    "print(r.status_code)\n",
    "#printing the output of the API with the \"prediction\" column at the end\n",
    "print(r.json())"
   ]
  },
  {
   "cell_type": "code",
   "execution_count": 25,
   "metadata": {},
   "outputs": [
    {
     "data": {
      "text/html": [
       "<div>\n",
       "<style scoped>\n",
       "    .dataframe tbody tr th:only-of-type {\n",
       "        vertical-align: middle;\n",
       "    }\n",
       "\n",
       "    .dataframe tbody tr th {\n",
       "        vertical-align: top;\n",
       "    }\n",
       "\n",
       "    .dataframe thead th {\n",
       "        text-align: right;\n",
       "    }\n",
       "</style>\n",
       "<table border=\"1\" class=\"dataframe\">\n",
       "  <thead>\n",
       "    <tr style=\"text-align: right;\">\n",
       "      <th></th>\n",
       "      <th>dias_atividade</th>\n",
       "      <th>datas_distintas_de_venda</th>\n",
       "      <th>%_de_atividade</th>\n",
       "      <th>vendas_por_dia_de_atividade</th>\n",
       "      <th>qtd_pedidos</th>\n",
       "      <th>qtd_produtos</th>\n",
       "      <th>media_produtos_por_pedido</th>\n",
       "      <th>receita_total</th>\n",
       "      <th>media_valor_pedido_sem_frete</th>\n",
       "      <th>media_valor_pedido_com_frete</th>\n",
       "      <th>media_valor_frete</th>\n",
       "      <th>prop_pedidos_atrasados</th>\n",
       "      <th>tempo_de_postagem</th>\n",
       "      <th>prediction</th>\n",
       "    </tr>\n",
       "  </thead>\n",
       "  <tbody>\n",
       "    <tr>\n",
       "      <th>0</th>\n",
       "      <td>81</td>\n",
       "      <td>6</td>\n",
       "      <td>0.07</td>\n",
       "      <td>1.17</td>\n",
       "      <td>7</td>\n",
       "      <td>8</td>\n",
       "      <td>1.14</td>\n",
       "      <td>1028.0</td>\n",
       "      <td>146.86</td>\n",
       "      <td>168.14</td>\n",
       "      <td>21.29</td>\n",
       "      <td>0.0</td>\n",
       "      <td>1</td>\n",
       "      <td>1</td>\n",
       "    </tr>\n",
       "  </tbody>\n",
       "</table>\n",
       "</div>"
      ],
      "text/plain": [
       "   dias_atividade  datas_distintas_de_venda  %_de_atividade  \\\n",
       "0              81                         6            0.07   \n",
       "\n",
       "   vendas_por_dia_de_atividade  qtd_pedidos  qtd_produtos  \\\n",
       "0                         1.17            7             8   \n",
       "\n",
       "   media_produtos_por_pedido  receita_total  media_valor_pedido_sem_frete  \\\n",
       "0                       1.14         1028.0                        146.86   \n",
       "\n",
       "   media_valor_pedido_com_frete  media_valor_frete  prop_pedidos_atrasados  \\\n",
       "0                        168.14              21.29                     0.0   \n",
       "\n",
       "   tempo_de_postagem  prediction  \n",
       "0                  1           1  "
      ]
     },
     "execution_count": 25,
     "metadata": {},
     "output_type": "execute_result"
    }
   ],
   "source": [
    "#transforming the json output into a dataframe\n",
    "df = pd.DataFrame(r.json(), columns = r.json()[0].keys())\n",
    "df"
   ]
  }
 ],
 "metadata": {
  "kernelspec": {
   "display_name": "Python 3",
   "language": "python",
   "name": "python3"
  },
  "language_info": {
   "codemirror_mode": {
    "name": "ipython",
    "version": 3
   },
   "file_extension": ".py",
   "mimetype": "text/x-python",
   "name": "python",
   "nbconvert_exporter": "python",
   "pygments_lexer": "ipython3",
   "version": "3.8.5"
  }
 },
 "nbformat": 4,
 "nbformat_minor": 4
}
